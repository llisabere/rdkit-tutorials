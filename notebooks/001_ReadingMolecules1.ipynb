{
  "cells": [
    {
      "cell_type": "markdown",
      "metadata": {
        "id": "CLjs04zsoMN9"
      },
      "source": [
        "# Reading and writing molecules 1\n",
        "\n",
        "This is a short overview of creating molecules from and writing molecules to various file formats. It is intended to be a complement to, not replacement for, the contents of the [main RDKit documentation](http://rdkit.org/docs/index.html)\n",
        "\n",
        "@TAGS: #basics #molecule_input"
      ]
    },
    {
      "cell_type": "code",
      "source": [
        "%%capture\n",
        "import sys\n",
        "IN_COLAB = 'google.colab' in sys.modules\n",
        "if IN_COLAB:\n",
        "    !pip install rdkit pandas seaborn mols2grid requests"
      ],
      "metadata": {
        "id": "yBvdtvd5o6tM"
      },
      "execution_count": 3,
      "outputs": []
    },
    {
      "cell_type": "code",
      "execution_count": 4,
      "metadata": {
        "id": "_vloOmAhoMN-"
      },
      "outputs": [],
      "source": [
        "from rdkit import Chem\n",
        "from rdkit.Chem.Draw import IPythonConsole\n",
        "from rdkit.Chem import Draw\n",
        "# uncomment this if you try the tutorial and end up with low-quality images\n",
        "# IPythonConsole.ipython_useSVG=True"
      ]
    },
    {
      "cell_type": "code",
      "execution_count": 5,
      "metadata": {
        "tags": [
          "nbval-ignore-output"
        ],
        "id": "btN6B2OKoMN_",
        "outputId": "3571ac61-b541-49f2-c1cf-5fa37a1afee8",
        "colab": {
          "base_uri": "https://localhost:8080/"
        }
      },
      "outputs": [
        {
          "output_type": "stream",
          "name": "stdout",
          "text": [
            "Sat Jun  7 09:06:09 2025\n"
          ]
        }
      ],
      "source": [
        "import time\n",
        "print(time.asctime()) # doctest: IGNORE"
      ]
    },
    {
      "cell_type": "markdown",
      "metadata": {
        "id": "ZiSJQfuSoMN_"
      },
      "source": [
        "## Working with SMILES"
      ]
    },
    {
      "cell_type": "markdown",
      "metadata": {
        "id": "EZIJ9srkoMOA"
      },
      "source": [
        "If you have a SMILES string, the easiest thing to use is MolFromSmiles:"
      ]
    },
    {
      "cell_type": "code",
      "execution_count": 6,
      "metadata": {
        "scrolled": true,
        "tags": [
          "nbval-ignore-output"
        ],
        "id": "RHzFxLzToMOA",
        "outputId": "fbac26d0-dcd8-440a-f242-4b135b9a3d71",
        "colab": {
          "base_uri": "https://localhost:8080/",
          "height": 167
        }
      },
      "outputs": [
        {
          "output_type": "execute_result",
          "data": {
            "text/plain": [
              "<rdkit.Chem.rdchem.Mol at 0x7cc6203f59a0>"
            ],
            "image/png": "[encoded data removed]"
          },
          "metadata": {},
          "execution_count": 6
        }
      ],
      "source": [
        "m = Chem.MolFromSmiles('COc1ccc2c(c1)[nH]c(n2)[S@@](=O)Cc1ncc(c(c1C)OC)C')\n",
        "m"
      ]
    },
    {
      "cell_type": "markdown",
      "metadata": {
        "id": "pxVv6zEloMOA"
      },
      "source": [
        "Note that the coordinates used for the drawing are not present in the molecule, the RDKit generates them when the molecule is drawn."
      ]
    },
    {
      "cell_type": "markdown",
      "metadata": {
        "id": "-tRIfDLAoMOA"
      },
      "source": [
        "## Reading Mol file data"
      ]
    },
    {
      "cell_type": "code",
      "execution_count": null,
      "metadata": {
        "tags": [
          "nbval-ignore-output"
        ],
        "id": "DPOcz-dYoMOA",
        "outputId": "ad16cec0-d71a-4edb-886d-5655ce02ff6e"
      },
      "outputs": [
        {
          "data": {
            "image/png": "[encoded data removed]",
            "text/plain": [
              "<rdkit.Chem.rdchem.Mol at 0x7fb2ce926b20>"
            ]
          },
          "execution_count": 4,
          "metadata": {},
          "output_type": "execute_result"
        }
      ],
      "source": [
        "molblock = \"\"\"phenol\n",
        "  Mrv1682210081607082D\n",
        "\n",
        "  7  7  0  0  0  0            999 V2000\n",
        "   -0.6473    1.0929    0.0000 C   0  0  0  0  0  0  0  0  0  0  0  0\n",
        "   -1.3618    0.6804    0.0000 C   0  0  0  0  0  0  0  0  0  0  0  0\n",
        "   -1.3618   -0.1447    0.0000 C   0  0  0  0  0  0  0  0  0  0  0  0\n",
        "   -0.6473   -0.5572    0.0000 C   0  0  0  0  0  0  0  0  0  0  0  0\n",
        "    0.0671   -0.1447    0.0000 C   0  0  0  0  0  0  0  0  0  0  0  0\n",
        "    0.0671    0.6804    0.0000 C   0  0  0  0  0  0  0  0  0  0  0  0\n",
        "    0.7816    1.0929    0.0000 O   0  0  0  0  0  0  0  0  0  0  0  0\n",
        "  1  2  1  0  0  0  0\n",
        "  2  3  2  0  0  0  0\n",
        "  3  4  1  0  0  0  0\n",
        "  4  5  2  0  0  0  0\n",
        "  5  6  1  0  0  0  0\n",
        "  1  6  2  0  0  0  0\n",
        "  6  7  1  0  0  0  0\n",
        "M  END\n",
        "\"\"\"\n",
        "m = Chem.MolFromMolBlock(molblock)\n",
        "m"
      ]
    },
    {
      "cell_type": "markdown",
      "metadata": {
        "id": "GM7rGBlvoMOA"
      },
      "source": [
        "Here the molecule has coordinates that were read in from the Mol block. We can see this because the molecule has a conformer:"
      ]
    },
    {
      "cell_type": "code",
      "execution_count": null,
      "metadata": {
        "id": "0p9ct7Z7oMOA",
        "outputId": "4c122c42-cc94-4932-c8c8-be8ccc9f63ab"
      },
      "outputs": [
        {
          "data": {
            "text/plain": [
              "1"
            ]
          },
          "execution_count": 5,
          "metadata": {},
          "output_type": "execute_result"
        }
      ],
      "source": [
        "m.GetNumConformers()"
      ]
    },
    {
      "cell_type": "markdown",
      "metadata": {
        "id": "gA2J8dZvoMOB"
      },
      "source": [
        "The conformer that is present is 2D (we can see that from the coordinates above):"
      ]
    },
    {
      "cell_type": "code",
      "execution_count": null,
      "metadata": {
        "id": "fuZlD0wYoMOB",
        "outputId": "367e2be7-b033-4766-9779-2dc436f9e9cc"
      },
      "outputs": [
        {
          "data": {
            "text/plain": [
              "False"
            ]
          },
          "execution_count": 6,
          "metadata": {},
          "output_type": "execute_result"
        }
      ],
      "source": [
        "m.GetConformer().Is3D()"
      ]
    },
    {
      "cell_type": "markdown",
      "metadata": {
        "id": "Lyo0mJomoMOB"
      },
      "source": [
        "Here's another Mol block and the corresponding molecule:"
      ]
    },
    {
      "cell_type": "code",
      "execution_count": null,
      "metadata": {
        "tags": [
          "nbval-ignore-output"
        ],
        "id": "jkHSI2AWoMOB",
        "outputId": "c6bd7b9b-edf9-45fa-d639-5b50e0252b27"
      },
      "outputs": [
        {
          "data": {
            "image/png": "[encoded data removed]",
            "text/plain": [
              "<rdkit.Chem.rdchem.Mol at 0x7fb2ce8d1520>"
            ]
          },
          "execution_count": 7,
          "metadata": {},
          "output_type": "execute_result"
        }
      ],
      "source": [
        "molblock2 ='''cyclopropanol-3D\n",
        "  Mrv1682210081607153D\n",
        "\n",
        " 10 10  0  0  0  0            999 V2000\n",
        "    0.9159    1.2233    0.2286 C   0  0  1  0  0  0  0  0  0  0  0  0\n",
        "   -0.0738    1.2748   -0.9428 C   0  0  2  0  0  0  0  0  0  0  0  0\n",
        "   -0.3167    0.3104    0.2232 C   0  0  2  0  0  0  0  0  0  0  0  0\n",
        "   -1.3658    0.6623    1.1190 O   0  0  0  0  0  0  0  0  0  0  0  0\n",
        "    1.8730    0.7413    0.0155 H   0  0  0  0  0  0  0  0  0  0  0  0\n",
        "    0.8835    2.0739    0.9139 H   0  0  0  0  0  0  0  0  0  0  0  0\n",
        "    0.2747    0.8266   -1.8737 H   0  0  0  0  0  0  0  0  0  0  0  0\n",
        "   -0.7163    2.1557   -0.9817 H   0  0  0  0  0  0  0  0  0  0  0  0\n",
        "   -0.1264   -0.7446    0.0137 H   0  0  0  0  0  0  0  0  0  0  0  0\n",
        "   -1.1210    0.2486    1.9735 H   0  0  0  0  0  0  0  0  0  0  0  0\n",
        "  1  2  1  0  0  0  0\n",
        "  2  3  1  0  0  0  0\n",
        "  1  3  1  0  0  0  0\n",
        "  3  4  1  0  0  0  0\n",
        "  1  5  1  0  0  0  0\n",
        "  1  6  1  0  0  0  0\n",
        "  2  7  1  0  0  0  0\n",
        "  2  8  1  0  0  0  0\n",
        "  3  9  1  0  0  0  0\n",
        "  4 10  1  0  0  0  0\n",
        "M  END\n",
        "'''\n",
        "m2 = Chem.MolFromMolBlock(molblock2)\n",
        "m2"
      ]
    },
    {
      "cell_type": "markdown",
      "metadata": {
        "id": "YLtun_gRoMOB"
      },
      "source": [
        "The odd coordinates in the drawing is because the molecule has a 3D conformer:"
      ]
    },
    {
      "cell_type": "code",
      "execution_count": null,
      "metadata": {
        "id": "gCzlUvFpoMOB",
        "outputId": "46417c49-9234-44f4-9956-77b1200e8709"
      },
      "outputs": [
        {
          "data": {
            "text/plain": [
              "True"
            ]
          },
          "execution_count": 8,
          "metadata": {},
          "output_type": "execute_result"
        }
      ],
      "source": [
        "m2.GetConformer().Is3D()"
      ]
    },
    {
      "cell_type": "markdown",
      "metadata": {
        "id": "6-QDPnq-oMOB"
      },
      "source": [
        "Notice that no Hs were drawn even though there are clearly H atoms in the Mol block. The default behavior for the RDKit Mol block reader is to remove Hs from the input molecule. If we want to keep the Hs and their coordinates, this behavior can be turned off:"
      ]
    },
    {
      "cell_type": "code",
      "execution_count": null,
      "metadata": {
        "tags": [
          "nbval-ignore-output"
        ],
        "id": "0Nk6IYsjoMOB",
        "outputId": "7c3ab60e-39d2-40e7-e191-d3bf7bd435eb"
      },
      "outputs": [
        {
          "data": {
            "image/png": "[encoded data removed]",
            "text/plain": [
              "<rdkit.Chem.rdchem.Mol at 0x7fb2ce9267c0>"
            ]
          },
          "execution_count": 9,
          "metadata": {},
          "output_type": "execute_result"
        }
      ],
      "source": [
        "m2_h = Chem.MolFromMolBlock(molblock2,removeHs=False)\n",
        "m2_h"
      ]
    },
    {
      "cell_type": "markdown",
      "metadata": {
        "id": "srdRys1boMOC"
      },
      "source": [
        "## Reading PDB data"
      ]
    },
    {
      "cell_type": "markdown",
      "metadata": {
        "id": "zpCiE9WgoMOC"
      },
      "source": [
        "This time we'll read from a file instead of embedding the text in the notebook. We also won't try to display the molecule itself, since that isn't particularly informative for a large molecule."
      ]
    },
    {
      "cell_type": "code",
      "execution_count": null,
      "metadata": {
        "id": "x9eH-uqpoMOC",
        "outputId": "53a0e2a9-2307-4f17-8c07-e9139cd70300"
      },
      "outputs": [
        {
          "data": {
            "text/plain": [
              "327"
            ]
          },
          "execution_count": 10,
          "metadata": {},
          "output_type": "execute_result"
        }
      ],
      "source": [
        "crn = Chem.MolFromPDBFile('../data/1CRN.pdb')\n",
        "crn.GetNumAtoms()"
      ]
    },
    {
      "cell_type": "markdown",
      "metadata": {
        "id": "olmlHce7oMOC"
      },
      "source": [
        "In order to be able to show something useful with the proteins, let's get the amino-acid sequence:"
      ]
    },
    {
      "cell_type": "code",
      "execution_count": null,
      "metadata": {
        "id": "ZdIuxp04oMOC",
        "outputId": "464e67ff-9905-4683-d3c0-4b50ce83460d"
      },
      "outputs": [
        {
          "data": {
            "text/plain": [
              "[(1, 'THR'),\n",
              " (1, 'THR'),\n",
              " (1, 'THR'),\n",
              " (1, 'THR'),\n",
              " (1, 'THR'),\n",
              " (1, 'THR'),\n",
              " (1, 'THR'),\n",
              " (2, 'THR'),\n",
              " (2, 'THR'),\n",
              " (2, 'THR')]"
            ]
          },
          "execution_count": 11,
          "metadata": {},
          "output_type": "execute_result"
        }
      ],
      "source": [
        "# get the residue information for each atom:\n",
        "residues = [atom.GetPDBResidueInfo() for atom in crn.GetAtoms()]\n",
        "# and now the number and name of each residue\n",
        "resinf = [(res.GetResidueNumber(),res.GetResidueName()) for res in residues]\n",
        "# take a look at those:\n",
        "resinf[:10]"
      ]
    },
    {
      "cell_type": "code",
      "execution_count": null,
      "metadata": {
        "id": "F7CA3L8boMOC",
        "outputId": "7baed2cd-3b46-4b39-e2e9-e7847c0c663a"
      },
      "outputs": [
        {
          "data": {
            "text/plain": [
              "46"
            ]
          },
          "execution_count": 12,
          "metadata": {},
          "output_type": "execute_result"
        }
      ],
      "source": [
        "# and get the ordered list of actual residues:\n",
        "residues = sorted(set(resinf))\n",
        "len(residues)"
      ]
    },
    {
      "cell_type": "code",
      "execution_count": null,
      "metadata": {
        "id": "hO0Ve2-ooMOC",
        "outputId": "2b3ede37-87ca-46c4-cfe8-6b966b0c0c4a"
      },
      "outputs": [
        {
          "data": {
            "text/plain": [
              "[(1, 'THR'), (2, 'THR'), (3, 'CYS'), (4, 'CYS'), (5, 'PRO')]"
            ]
          },
          "execution_count": 13,
          "metadata": {},
          "output_type": "execute_result"
        }
      ],
      "source": [
        "residues[:5]"
      ]
    },
    {
      "cell_type": "markdown",
      "metadata": {
        "id": "72Tj0WL7oMOC"
      },
      "source": [
        "## Reading other sequence formats"
      ]
    },
    {
      "cell_type": "markdown",
      "metadata": {
        "id": "reHb5HCcoMOC"
      },
      "source": [
        "We can also create molecules from a few sequence formats:"
      ]
    },
    {
      "cell_type": "code",
      "execution_count": null,
      "metadata": {
        "id": "DeAmMRkPoMOC",
        "outputId": "fafd3937-9e45-40ee-ffa2-de79f4a3d106"
      },
      "outputs": [
        {
          "data": {
            "text/plain": [
              "327"
            ]
          },
          "execution_count": 14,
          "metadata": {},
          "output_type": "execute_result"
        }
      ],
      "source": [
        "seq = 'TTCCPSIVAR SNFNVCRLPG TPEAICATYT GCIIIPGATC PGDYAN'\n",
        "m = Chem.MolFromSequence(seq)\n",
        "m.GetNumAtoms()"
      ]
    },
    {
      "cell_type": "code",
      "execution_count": null,
      "metadata": {
        "id": "QWRAql5soMOC",
        "outputId": "1b3d35ea-6a27-44b6-dea0-25296c3b0b99"
      },
      "outputs": [
        {
          "data": {
            "text/plain": [
              "327"
            ]
          },
          "execution_count": 15,
          "metadata": {},
          "output_type": "execute_result"
        }
      ],
      "source": [
        "helm = 'PEPTIDE1{T.T.C.C.P.S.I.V.A.R.S.N.F.N.V.C.R.L.P.G.T.P.E.A.I.C.A.T.Y.T.G.C.I.I.I.P.G.A.T.C.P.G.D.Y.A.N}$$$$'\n",
        "m = Chem.MolFromHELM(helm)\n",
        "m.GetNumAtoms()"
      ]
    },
    {
      "cell_type": "code",
      "execution_count": null,
      "metadata": {
        "id": "tK-7W5i0oMOD",
        "outputId": "9c29e413-ce0b-434b-ba81-5dbdd2c6ed0b"
      },
      "outputs": [
        {
          "data": {
            "text/plain": [
              "327"
            ]
          },
          "execution_count": 16,
          "metadata": {},
          "output_type": "execute_result"
        }
      ],
      "source": [
        "fasta =\"\"\">\n",
        "TTCCPSIVARSNFNVCRLPGTPEAICATYTGCIIIPGATCPGDYAN\n",
        "\"\"\"\n",
        "m = Chem.MolFromFASTA(fasta)\n",
        "m.GetNumAtoms()"
      ]
    },
    {
      "cell_type": "code",
      "execution_count": null,
      "metadata": {
        "id": "avrahVpooMOD"
      },
      "outputs": [],
      "source": []
    }
  ],
  "metadata": {
    "anaconda-cloud": {},
    "celltoolbar": "Tags",
    "hide_input": false,
    "kernelspec": {
      "display_name": "Python 3",
      "language": "python",
      "name": "python3"
    },
    "language_info": {
      "codemirror_mode": {
        "name": "ipython",
        "version": 3
      },
      "file_extension": ".py",
      "mimetype": "text/x-python",
      "name": "python",
      "nbconvert_exporter": "python",
      "pygments_lexer": "ipython3",
      "version": "3.9.1"
    },
    "toc": {
      "base_numbering": 1,
      "nav_menu": {},
      "number_sections": true,
      "sideBar": true,
      "skip_h1_title": false,
      "title_cell": "Table of Contents",
      "title_sidebar": "Contents",
      "toc_cell": false,
      "toc_position": {},
      "toc_section_display": true,
      "toc_window_display": false
    },
    "colab": {
      "provenance": []
    }
  },
  "nbformat": 4,
  "nbformat_minor": 0
}