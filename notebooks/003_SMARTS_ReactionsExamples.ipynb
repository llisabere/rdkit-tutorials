{
  "cells": [
    {
      "cell_type": "markdown",
      "metadata": {
        "id": "Zol3mHkrzzrT"
      },
      "source": [
        "# RDKit: making new molecules using reaction SMARTS"
      ]
    },
    {
      "cell_type": "code",
      "source": [
        "# to add rdkit to google colab\n",
        "%%capture\n",
        "import sys\n",
        "IN_COLAB = 'google.colab' in sys.modules\n",
        "if IN_COLAB:\n",
        "    !pip install rdkit pandas seaborn mols2grid requests"
      ],
      "metadata": {
        "id": "X0Wldz7Cz2hB"
      },
      "execution_count": 1,
      "outputs": []
    },
    {
      "cell_type": "markdown",
      "metadata": {
        "id": "7rVL87vuzzrV"
      },
      "source": [
        "This notebook explores using `RDKit` to define chemical reactions and to use these reactions to create new molecules from existing reactants. It uses RDKit's SMARTS matches.  This notebook isn't a replacment for the [rdkit documentation](http://www.rdkit.org/docs/), but is intended to complement it."
      ]
    },
    {
      "cell_type": "markdown",
      "metadata": {
        "id": "uDJKBSoczzrV"
      },
      "source": [
        "@TAGS: #basics #reactions"
      ]
    },
    {
      "cell_type": "code",
      "execution_count": 2,
      "metadata": {
        "id": "VyooUCVmzzrW"
      },
      "outputs": [],
      "source": [
        "from __future__ import print_function\n",
        "# import rdkit components\n",
        "from rdkit import rdBase\n",
        "from rdkit import Chem\n",
        "from rdkit.Chem import AllChem\n",
        "from rdkit.Chem import Draw\n",
        "from rdkit.Chem import rdMolDescriptors\n",
        "\n",
        "# use IPythonConsole for pretty drawings\n",
        "from rdkit.Chem.Draw import IPythonConsole\n",
        "\n",
        "## The next line is commented out\n",
        "### because GitHub does not render svg's embedded in notebooks\n",
        "# IPythonConsole.ipython_useSVG=True\n",
        "IPythonConsole.ipython_useSVG=False\n",
        "\n",
        "# for flattening tuples and lists\n",
        "from itertools import chain"
      ]
    },
    {
      "cell_type": "markdown",
      "metadata": {
        "id": "mraWEfvczzrW"
      },
      "source": [
        "# An example unimolecular reaction: the oxidation of alcohols to ketones\n",
        "\n",
        "It's easy to get a feel for how the system works with some simple examples.  Let's take the oxidation of alcohols to ketones/aldehydes.  In real life, these reactions are not really unimolecular.  The electrons and hydrogen atoms that leave during the oxidation have to go somewhere.  But in these examples we aren't tracking the fate of those atoms; we're only tracking the transformations that happen to a single rdkit molecule.  That's what we mean by unimolecular."
      ]
    },
    {
      "cell_type": "code",
      "execution_count": 3,
      "metadata": {
        "id": "cphjnRyAzzrX",
        "outputId": "5779b8cb-41bd-4a4c-f00c-e755d4298af2",
        "colab": {
          "base_uri": "https://localhost:8080/",
          "height": 217
        }
      },
      "outputs": [
        {
          "output_type": "execute_result",
          "data": {
            "image/png": "[encoded data removed]",
            "text/plain": [
              "<IPython.core.display.Image object>"
            ]
          },
          "metadata": {},
          "execution_count": 3
        }
      ],
      "source": [
        "ethanol = Chem.MolFromSmiles('CCO')\n",
        "isopropanol = Chem.MolFromSmiles('CC(C)O')\n",
        "phenol = Chem.MolFromSmiles('c1cccc(O)c1')\n",
        "t_butanol = Chem.MolFromSmiles('C(C)(C)(C)O')\n",
        "glycerol = Chem.MolFromSmiles('OCC(O)CO')\n",
        "\n",
        "alcohols = [ethanol, isopropanol, phenol, t_butanol, glycerol]\n",
        "\n",
        "Draw.MolsToGridImage(alcohols, molsPerRow=5)"
      ]
    },
    {
      "cell_type": "markdown",
      "metadata": {
        "id": "gEC5pYFnzzrX"
      },
      "source": [
        "### A very general reaction definition\n",
        "\n",
        "There are a few ways we could imagine defining the reaction.  We'll take the most general way imaginable first."
      ]
    },
    {
      "cell_type": "code",
      "execution_count": 4,
      "metadata": {
        "id": "5NLleN_DzzrX"
      },
      "outputs": [],
      "source": [
        "rxn_1 = AllChem.ReactionFromSmarts('[#6:1][O:2]>>[#6:1]=[O:2]')"
      ]
    },
    {
      "cell_type": "markdown",
      "metadata": {
        "id": "TgPuGSVFzzrY"
      },
      "source": [
        "This definition says:\n",
        "\n",
        "  1. Take _any_ carbon atom, which we'll label as atom #1, whether aliphatic or aromatic, that ...\n",
        "  2. ... is bound via a single bond to an aliphatic oxygen atom (capital O), that we label as atom #2, and\n",
        "  3. transform the linkage between these atoms to be a double bond.\n",
        "  \n",
        "This is an OK definition, but it is going to run into problems.  Phenol and $t$-butanol don't oxidize, because if they did it would either disrupt aromaticity or result in a pentavalent carbon.  rdkit has ways of letting us know about this, as we shall see.\n",
        "\n",
        "First, we have to run the reaction.  Let's show it working on isopropanol."
      ]
    },
    {
      "cell_type": "code",
      "execution_count": 5,
      "metadata": {
        "tags": [
          "nbval-ignore-output"
        ],
        "id": "aQmtktK-zzrY",
        "outputId": "a05448df-585d-4f5f-b828-682cdca42c4d",
        "colab": {
          "base_uri": "https://localhost:8080/"
        }
      },
      "outputs": [
        {
          "output_type": "execute_result",
          "data": {
            "text/plain": [
              "((<rdkit.Chem.rdchem.Mol at 0x7946dec329d0>,),)"
            ]
          },
          "metadata": {},
          "execution_count": 5
        }
      ],
      "source": [
        "rxn_1.RunReactants((isopropanol, ))"
      ]
    },
    {
      "cell_type": "markdown",
      "metadata": {
        "id": "24r4jXhhzzrY"
      },
      "source": [
        "A couple of things to note about the input and output to the `RunReactants()` method:\n",
        "  1.  The input is a Python _tuple_.  Note the extra parentheses and the trailing comma in the input above.  For the single molecule we have here, it seems confusing, but this format makes it easy to supply multiple molecules into a single reaction.\n",
        "  2.  The output is a tuple of tuples.  The _inner_ tuples are there because even reactions that take only a single input molecule can result in multiple output molecules (e.g. hydrolysis).  The _outer_ tuples are there because rdkit applies your reaction incidence of the appropriate motifs in the input molecule, even if it occurs more than once.  \n",
        "  \n",
        "The upshot of all this is that it can take a bit of indexing to get your molecule out.  Note the trailing `[0][0]` below."
      ]
    },
    {
      "cell_type": "code",
      "execution_count": 6,
      "metadata": {
        "tags": [
          "nbval-ignore-output"
        ],
        "id": "dRHItEEkzzrY",
        "outputId": "ff723da0-9bf3-4952-d0bd-f44a33b79b97",
        "colab": {
          "base_uri": "https://localhost:8080/",
          "height": 167
        }
      },
      "outputs": [
        {
          "output_type": "execute_result",
          "data": {
            "text/plain": [
              "<rdkit.Chem.rdchem.Mol at 0x7946dec328f0>"
            ],
            "image/png": "[encoded data removed]"
          },
          "metadata": {},
          "execution_count": 6
        }
      ],
      "source": [
        "rxn_1.RunReactants((isopropanol, ))[0][0]"
      ]
    },
    {
      "cell_type": "markdown",
      "metadata": {
        "id": "6WiSMu2bzzrY"
      },
      "source": [
        "Behold!  We have produced acetone.  Now let's try one of the problematic examples."
      ]
    },
    {
      "cell_type": "code",
      "execution_count": 7,
      "metadata": {
        "tags": [
          "nbval-ignore-output"
        ],
        "id": "zR2Q221-zzrY",
        "outputId": "e26c3526-8e52-49c2-f95f-bda6d9d53d33",
        "colab": {
          "base_uri": "https://localhost:8080/",
          "height": 167
        }
      },
      "outputs": [
        {
          "output_type": "execute_result",
          "data": {
            "text/plain": [
              "<rdkit.Chem.rdchem.Mol at 0x7946dec32ab0>"
            ],
            "image/png": "[encoded data removed]"
          },
          "metadata": {},
          "execution_count": 7
        }
      ],
      "source": [
        "rxn_1.RunReactants((t_butanol, ))[0][0]"
      ]
    },
    {
      "cell_type": "markdown",
      "metadata": {
        "id": "kfi0d_lizzrY"
      },
      "source": [
        "Uh-oh!  RDKit gave us a pentavalent carbon.  That can't be right.  \n",
        "\n",
        "The reason this happens is that by default, the products of `RunReactants` are not sanitized, i.e., rdkit doesn't check to see if they make sense.  We can do that check using `Chem.SanitizeMol()`, and the results match up with chemical common sense."
      ]
    },
    {
      "cell_type": "code",
      "execution_count": 8,
      "metadata": {
        "id": "bW9BeLwMzzrZ",
        "outputId": "1ca71ee2-eb2d-46e4-8dac-9e1557770173",
        "colab": {
          "base_uri": "https://localhost:8080/"
        }
      },
      "outputs": [
        {
          "output_type": "execute_result",
          "data": {
            "text/plain": [
              "rdkit.Chem.rdmolops.SanitizeFlags.SANITIZE_NONE"
            ]
          },
          "metadata": {},
          "execution_count": 8
        }
      ],
      "source": [
        "# acetone can be sanitized, no problems here\n",
        "acetone = rxn_1.RunReactants((isopropanol, ))[0][0]\n",
        "Chem.SanitizeMol(acetone)"
      ]
    },
    {
      "cell_type": "code",
      "execution_count": 9,
      "metadata": {
        "tags": [
          "nbval-ignore-output"
        ],
        "id": "szvhlukCzzrZ",
        "outputId": "975a8fa7-b46f-4622-cdae-5249ba0bb7a2",
        "colab": {
          "base_uri": "https://localhost:8080/",
          "height": 167
        }
      },
      "outputs": [
        {
          "output_type": "execute_result",
          "data": {
            "text/plain": [
              "<rdkit.Chem.rdchem.Mol at 0x7946dec32b20>"
            ],
            "image/png": "[encoded data removed]"
          },
          "metadata": {},
          "execution_count": 9
        }
      ],
      "source": [
        "acetone"
      ]
    },
    {
      "cell_type": "code",
      "execution_count": 10,
      "metadata": {
        "tags": [
          "nbval-ignore-output"
        ],
        "id": "V9ufzl4EzzrZ",
        "outputId": "b1da1e08-fb0d-44a1-af7d-6ae6c17ea898",
        "colab": {
          "base_uri": "https://localhost:8080/",
          "height": 201
        }
      },
      "outputs": [
        {
          "output_type": "stream",
          "name": "stdout",
          "text": [
            "Sanitization FAILED!\n"
          ]
        },
        {
          "output_type": "stream",
          "name": "stderr",
          "text": [
            "[07:55:15] Explicit valence for atom # 0 C, 5, is greater than permitted\n"
          ]
        },
        {
          "output_type": "execute_result",
          "data": {
            "text/plain": [
              "<rdkit.Chem.rdchem.Mol at 0x7946dec32880>"
            ],
            "image/png": "[encoded data removed]"
          },
          "metadata": {},
          "execution_count": 10
        }
      ],
      "source": [
        "#doctest: IGNORE\n",
        "# \"t-butyl ketone\" cannot be sanitized, this is going to give an error\n",
        "crazy_molecule = rxn_1.RunReactants((t_butanol, ))[0][0]\n",
        "try:\n",
        "    Chem.SanitizeMol(crazy_molecule)\n",
        "except ValueError:\n",
        "    print('Sanitization FAILED!')\n",
        "\n",
        "# Drawing the moecule will create rdkit warning messages that start with `RDKit ERROR:`\n",
        "crazy_molecule"
      ]
    },
    {
      "cell_type": "markdown",
      "metadata": {
        "id": "X1vL2akbzzrZ"
      },
      "source": [
        "The warning message is a clue that something is wonky with the \"ketone\" that we created with the reaction. Phenol presents another problematic case for our reaction.  "
      ]
    },
    {
      "cell_type": "code",
      "execution_count": 11,
      "metadata": {
        "tags": [
          "nbval-ignore-output"
        ],
        "id": "mVY8dYA4zzrZ",
        "outputId": "c8aef9c5-f209-4092-e726-dec98c6c366b",
        "colab": {
          "base_uri": "https://localhost:8080/"
        }
      },
      "outputs": [
        {
          "output_type": "stream",
          "name": "stdout",
          "text": [
            "Sanitization failed.\n"
          ]
        },
        {
          "output_type": "stream",
          "name": "stderr",
          "text": [
            "[07:56:04] Can't kekulize mol.  Unkekulized atoms: 2 3 4 5 6\n"
          ]
        }
      ],
      "source": [
        "#doctest: IGNORE\n",
        "# \"phenyl ketone\" cannot be kekulized\n",
        "crazy_molecule = rxn_1.RunReactants((phenol, ))[0][0]\n",
        "try:\n",
        "    Chem.SanitizeMol(crazy_molecule)\n",
        "except ValueError:\n",
        "    print(\"Sanitization failed.\")\n",
        "\n",
        "# Drawing the molecule will create rdkit warning messages that start with `RDKit ERROR:`,\n",
        "# so we skip it here\n",
        "crazy_molecule = rxn_1.RunReactants((phenol, ))[0][0]\n",
        "# crazy_molecule"
      ]
    },
    {
      "cell_type": "markdown",
      "metadata": {
        "id": "J-niE9YTzzrZ"
      },
      "source": [
        "The lesson here is that reactions can create crazy molecules.  This is usually a sign that your reaction is defined too generally.  There are ways to fix that, but for now, let's see what happens with glycerol."
      ]
    },
    {
      "cell_type": "code",
      "execution_count": 12,
      "metadata": {
        "tags": [
          "nbval-ignore-output"
        ],
        "id": "FvhRggxkzzrZ",
        "outputId": "9c72a68c-cbb8-44ce-adcc-c8133a7f254e",
        "colab": {
          "base_uri": "https://localhost:8080/"
        }
      },
      "outputs": [
        {
          "output_type": "execute_result",
          "data": {
            "text/plain": [
              "((<rdkit.Chem.rdchem.Mol at 0x7946decae180>,),\n",
              " (<rdkit.Chem.rdchem.Mol at 0x7946decae500>,),\n",
              " (<rdkit.Chem.rdchem.Mol at 0x7946decae2d0>,))"
            ]
          },
          "metadata": {},
          "execution_count": 12
        }
      ],
      "source": [
        "rxn_1.RunReactants((glycerol, ))"
      ]
    },
    {
      "cell_type": "markdown",
      "metadata": {
        "id": "UVn7HLLAzzrZ"
      },
      "source": [
        "Now the ouput is a length-3 tuple of length-1 tuples.  This means that rdkit found three places in the reactant to apply the reaction rule, and each reaction created a single molecule as the product.  This makes sense because glycerol does have three hydroxyl atoms that can be oxidized.  A Pythonic way to look at all these products at once is to unpack the tuples with the `chain.from_iterable()` method from `itertools`."
      ]
    },
    {
      "cell_type": "code",
      "execution_count": 13,
      "metadata": {
        "id": "1StRSRRZzzrZ",
        "outputId": "8334c7fe-dc5e-41d0-ee18-4bdf662589f6",
        "colab": {
          "base_uri": "https://localhost:8080/"
        }
      },
      "outputs": [
        {
          "output_type": "execute_result",
          "data": {
            "text/plain": [
              "[rdkit.Chem.rdmolops.SanitizeFlags.SANITIZE_NONE,\n",
              " rdkit.Chem.rdmolops.SanitizeFlags.SANITIZE_NONE,\n",
              " rdkit.Chem.rdmolops.SanitizeFlags.SANITIZE_NONE]"
            ]
          },
          "metadata": {},
          "execution_count": 13
        }
      ],
      "source": [
        "glycerol_products = list(chain.from_iterable(rxn_1.RunReactants((glycerol, ))))\n",
        "[Chem.SanitizeMol(mol) for mol in glycerol_products]"
      ]
    },
    {
      "cell_type": "code",
      "execution_count": 14,
      "metadata": {
        "id": "5VD-Y9slzzra",
        "outputId": "17982c82-5790-40d0-b10d-16b0c53a2a37",
        "colab": {
          "base_uri": "https://localhost:8080/",
          "height": 217
        }
      },
      "outputs": [
        {
          "output_type": "execute_result",
          "data": {
            "image/png": "[encoded data removed]",
            "text/plain": [
              "<IPython.core.display.Image object>"
            ]
          },
          "metadata": {},
          "execution_count": 14
        }
      ],
      "source": [
        "Draw.MolsToGridImage(glycerol_products)"
      ]
    },
    {
      "cell_type": "markdown",
      "metadata": {
        "id": "XK_AQjcEzzra"
      },
      "source": [
        "rdkit does not know about the symmetry of the glycerol molecule, i.e. that oxidizing carbon 1 gives the same molecule as oxidizing carbon 3. So glyceraldehyde appears twice while dihydroxyacetone appears only once.  \n",
        "\n",
        "It can be tricky to reduce sets of molecules to \"unique\" sets of molecules in rdkit.  rdkit molecules are really pointers to locations in memory, so equating two molecules in Python will always give `False`.  Doing the comparison in a simple case like this can be done by converting to SMILES.   \n",
        "\n",
        "Once the molecules have been converted to SMILES string representations, we can use Python's `set` object type to keep only the unique objects, and then covert back to rdkit molecules."
      ]
    },
    {
      "cell_type": "code",
      "execution_count": 15,
      "metadata": {
        "id": "UvAGnI_jzzra",
        "outputId": "489063ae-d5cf-45cd-88ee-9eae9182000e",
        "colab": {
          "base_uri": "https://localhost:8080/"
        }
      },
      "outputs": [
        {
          "output_type": "execute_result",
          "data": {
            "text/plain": [
              "2"
            ]
          },
          "metadata": {},
          "execution_count": 15
        }
      ],
      "source": [
        "glycerol_unique_products = []\n",
        "glycerol_product_smiles = set()\n",
        "for mol in glycerol_products:\n",
        "    smi = Chem.MolToSmiles(mol)\n",
        "    if smi not in glycerol_product_smiles:\n",
        "        glycerol_product_smiles.add(smi)\n",
        "        glycerol_unique_products.append(mol)\n",
        "len(glycerol_unique_products)"
      ]
    },
    {
      "cell_type": "code",
      "source": [
        "import numpy as np\n",
        "un_smi = ()\n",
        "for mol in glycerol_products:\n",
        "    smi = Chem.MolToSmiles(mol)\n",
        "    un_smi = np.append(un_smi,smi)\n",
        "np.unique(un_smi).shape"
      ],
      "metadata": {
        "id": "nrI0qhYP2VeT",
        "outputId": "36163ed7-d660-4e56-c6d7-948875aebf23",
        "colab": {
          "base_uri": "https://localhost:8080/"
        }
      },
      "execution_count": 22,
      "outputs": [
        {
          "output_type": "execute_result",
          "data": {
            "text/plain": [
              "(2,)"
            ]
          },
          "metadata": {},
          "execution_count": 22
        }
      ]
    },
    {
      "cell_type": "code",
      "execution_count": null,
      "metadata": {
        "id": "lDPhSSMozzra",
        "outputId": "dc643dd9-2606-4c5d-ef72-290c298bc57b"
      },
      "outputs": [
        {
          "data": {
            "image/png": "[encoded data removed]",
            "text/plain": [
              "<IPython.core.display.Image object>"
            ]
          },
          "execution_count": 15,
          "metadata": {},
          "output_type": "execute_result"
        }
      ],
      "source": [
        "Draw.MolsToGridImage(glycerol_unique_products)"
      ]
    },
    {
      "cell_type": "markdown",
      "metadata": {
        "id": "rEgti1mBzzra"
      },
      "source": [
        "Now we have only the two unique possible products.  It's worth noting that converting molecules to SMILES and then back into rdkit Molecules results in kekulization and sanitization, because unlike molecules created by `RunReactants()`, molecules created by `MolFromSmiles()` are kekulized and sanitized by default."
      ]
    },
    {
      "cell_type": "markdown",
      "metadata": {
        "id": "nFHtogkpzzra"
      },
      "source": [
        "### A better, more specific reaction definition\n",
        "\n",
        "We can fix most of the problems we've experienced with a better-defined SMARTS reaction.  Here's one that will only work on aliphatic primary or secondary alcohols."
      ]
    },
    {
      "cell_type": "code",
      "execution_count": 23,
      "metadata": {
        "id": "1i9CsLxVzzra"
      },
      "outputs": [],
      "source": [
        "rxn_2 = AllChem.ReactionFromSmarts('[CH:1][O:2]>>[C:1]=[O:2]')"
      ]
    },
    {
      "cell_type": "markdown",
      "metadata": {
        "id": "S0tQGvWOzzra"
      },
      "source": [
        "In this version of the reaction, we specify that the alcohol in question must be _aliphatic_ (we've used a capital `C` in the reactant definition above) and additionally that this carbon atom must be bound to at least one hydrogen (the `h`) above.\n",
        "\n",
        "We now apply the reaction to every molecule in our alcohol set and look at all the products."
      ]
    },
    {
      "cell_type": "code",
      "execution_count": 24,
      "metadata": {
        "id": "IVvpug65zzra",
        "outputId": "474ab3d8-ae42-4893-d853-b2a55e72e5ee",
        "colab": {
          "base_uri": "https://localhost:8080/"
        }
      },
      "outputs": [
        {
          "output_type": "execute_result",
          "data": {
            "text/plain": [
              "2"
            ]
          },
          "metadata": {},
          "execution_count": 24
        }
      ],
      "source": [
        "all_products_tuples = tuple(rxn_2.RunReactants((mol, )) for mol in alcohols)\n",
        "all_products = list(chain.from_iterable(chain.from_iterable(all_products_tuples)))\n",
        "\n",
        "all_products_smiles = set()\n",
        "all_products_unique = []\n",
        "for mol in all_products:\n",
        "    smi = Chem.MolToSmiles(mol)\n",
        "    if smi not in all_products_smiles:\n",
        "        all_products_smiles.add(smi)\n",
        "        all_products_unique.append(mol)\n",
        "len(all_products_unique)\n"
      ]
    },
    {
      "cell_type": "code",
      "execution_count": null,
      "metadata": {
        "id": "amFcb9SDzzrb",
        "outputId": "be9f3e82-bb3c-48fd-c082-5903bbcf99cc"
      },
      "outputs": [
        {
          "data": {
            "image/png": "[encoded data removed]",
            "text/plain": [
              "<IPython.core.display.Image object>"
            ]
          },
          "execution_count": 18,
          "metadata": {},
          "output_type": "execute_result"
        }
      ],
      "source": [
        "Draw.MolsToGridImage(all_products_unique)"
      ]
    },
    {
      "cell_type": "markdown",
      "metadata": {
        "id": "P1G6VXWbzzrb"
      },
      "source": [
        "The new reaction definition automatically excludes tertiary alcohols and aryl alchols.  "
      ]
    },
    {
      "cell_type": "markdown",
      "metadata": {
        "id": "zyXhmfh6zzrb"
      },
      "source": [
        "## More complex reactions\n",
        "\n",
        "The same basic ideas can be used to create reactions that involve more than one reactant molecule, or that create more than one product.  The only new idea is that a dot `.` is used in SMARTS reactions definitions to separate molecules in the input or output.\n",
        "\n",
        "Let's continue with the example set of alcohols, and this time eliminate water from them, creating an alkene and a water molecule.  We'll explicitly track both molecules this time."
      ]
    },
    {
      "cell_type": "code",
      "execution_count": 25,
      "metadata": {
        "id": "7dJCBLCHzzrb"
      },
      "outputs": [],
      "source": [
        "# helper functions to avoid typing the same thing over and over\n",
        "def to_smiles(mol_tuple):\n",
        "    return tuple(Chem.MolToSmiles(mol) for mol in mol_tuple)\n",
        "\n",
        "def from_smiles(smiles_tuple):\n",
        "    return tuple(Chem.MolFromSmiles(smiles) for smiles in smiles_tuple)\n"
      ]
    },
    {
      "cell_type": "code",
      "execution_count": 26,
      "metadata": {
        "id": "Locmf8GIzzrc",
        "outputId": "0bb33f2d-fe99-4899-94f4-64d68b02b7f3",
        "colab": {
          "base_uri": "https://localhost:8080/",
          "height": 1000
        }
      },
      "outputs": [
        {
          "output_type": "stream",
          "name": "stdout",
          "text": [
            "Number of unique product sets: 5\n"
          ]
        },
        {
          "output_type": "execute_result",
          "data": {
            "image/png": "[encoded data removed]",
            "text/plain": [
              "<IPython.core.display.Image object>"
            ]
          },
          "metadata": {},
          "execution_count": 26
        }
      ],
      "source": [
        "water_elimination_smarts = '[C!H0:1][C:2][O:3]>>[C:1]=[C:2].[O:3]'\n",
        "water_elimination = AllChem.ReactionFromSmarts(water_elimination_smarts)\n",
        "\n",
        "# do the reaction on every alcohol in our set\n",
        "all_products_tuples = [water_elimination.RunReactants((mol, )) for mol in alcohols]\n",
        "all_products = chain.from_iterable(all_products_tuples)\n",
        "\n",
        "# convert to smiles and back to keep only unique products\n",
        "all_products_smiles = [to_smiles(mol_tuple) for mol_tuple in all_products]\n",
        "all_products_unique = [from_smiles(smiles_tuple) for smiles_tuple in set(all_products_smiles)]\n",
        "nProductSets = len(all_products_unique)\n",
        "print(\"Number of unique product sets:\",nProductSets)\n",
        "\n",
        "# draw each product set on its own line\n",
        "prod_tpl = tuple(chain(*all_products_unique))\n",
        "Draw.MolsToGridImage(prod_tpl,molsPerRow=water_elimination.GetNumProductTemplates())"
      ]
    },
    {
      "cell_type": "markdown",
      "metadata": {
        "id": "MEZbIZKuzzrc"
      },
      "source": [
        "As expected, every reaction produces two compounds, one of which is water.  As before, glycerol gives rise to two _unique_ products.  Phenol does not react because it does not match our reaction rule, which specifies aliphatic carbons.  Unlike the oxidation reaction, $t$-butanol does react, since now it matches the reaction rule, forming isobutylene.  "
      ]
    },
    {
      "cell_type": "markdown",
      "metadata": {
        "id": "4URchl3Dzzrc"
      },
      "source": [
        "## A few other examples\n",
        "\n",
        "### Thiazole synthesis\n",
        "\n",
        "The case we haven't dealt with yet is defining reactions that take more than one molecule as input.  Here's an example of thiazole synthesis from a thiourea and a ketone."
      ]
    },
    {
      "cell_type": "code",
      "execution_count": 27,
      "metadata": {
        "id": "F2clq-cjzzrc",
        "outputId": "37c0759b-db52-49f2-9ce9-c961bafe8bc0",
        "colab": {
          "base_uri": "https://localhost:8080/"
        }
      },
      "outputs": [
        {
          "output_type": "stream",
          "name": "stderr",
          "text": [
            "[08:06:43] mapped atoms in the reactants were not mapped in the products.\n",
            "  unmapped numbers are: 6 8 \n"
          ]
        },
        {
          "output_type": "execute_result",
          "data": {
            "text/plain": [
              "rdkit.Chem.rdmolops.SanitizeFlags.SANITIZE_NONE"
            ]
          },
          "metadata": {},
          "execution_count": 27
        }
      ],
      "source": [
        "# Hantzsch thiazole synthesis\n",
        "thiourea = Chem.MolFromSmiles('CN(C)C(=S)N')\n",
        "haloketone = Chem.MolFromSmiles('c1ccccc1C(=O)C(C)Cl')\n",
        "rxn_smarts = '[NH2:1][C:2](=[S:3])[NH0:4].[C:5](=[O:6])[C:7][Cl:8]>>[N:4][c:2]1[s:3][c:5][c:7][n:1]1'\n",
        "rxn = AllChem.ReactionFromSmarts(rxn_smarts)\n",
        "product = rxn.RunReactants((thiourea, haloketone))[0][0]\n",
        "Chem.SanitizeMol(product)"
      ]
    },
    {
      "cell_type": "code",
      "execution_count": 28,
      "metadata": {
        "id": "CTxRisDOzzrc",
        "outputId": "609f6152-73e4-42db-bfe3-00647b73d189",
        "colab": {
          "base_uri": "https://localhost:8080/",
          "height": 217
        }
      },
      "outputs": [
        {
          "output_type": "execute_result",
          "data": {
            "image/png": "[encoded data removed]",
            "text/plain": [
              "<IPython.core.display.Image object>"
            ]
          },
          "metadata": {},
          "execution_count": 28
        }
      ],
      "source": [
        "all_three = [thiourea, haloketone, product]\n",
        "formulae = [rdMolDescriptors.CalcMolFormula(mol) for mol in all_three]\n",
        "Draw.MolsToGridImage(all_three, legends = formulae)"
      ]
    },
    {
      "cell_type": "markdown",
      "metadata": {
        "id": "ekRYGygazzrc"
      },
      "source": [
        "Two things are worth noting in this case:\n",
        "\n",
        "1. The reaction as we defined it doesn't track all the atoms; a water and a hydrogen chloride disappear given our reaction definition.\n",
        "\n",
        "2. The order in which reactants appear in the tuple(s) supplied to `RunReactants()` matters!  In our reaction definition, the thiourea SMARTS came first, so when feeding in reactants the thiourea should appear in the same slot.  If reactants are supplied in the wrong order, they won't match the reaction rule and no products will result (see below)."
      ]
    },
    {
      "cell_type": "code",
      "execution_count": 29,
      "metadata": {
        "id": "CwBK7e5_zzrc",
        "outputId": "93faa943-4e88-41c2-f9df-f554ecce42ea",
        "colab": {
          "base_uri": "https://localhost:8080/"
        }
      },
      "outputs": [
        {
          "output_type": "stream",
          "name": "stdout",
          "text": [
            "()\n"
          ]
        }
      ],
      "source": [
        "no_products = rxn.RunReactants((haloketone, thiourea))\n",
        "print(no_products)"
      ]
    },
    {
      "cell_type": "markdown",
      "metadata": {
        "id": "2s8Jx5SPzzrc"
      },
      "source": [
        "### Copper-catalyzed azide/alkyne cycloaddition"
      ]
    },
    {
      "cell_type": "code",
      "execution_count": 30,
      "metadata": {
        "id": "-DtOLeQfzzrd",
        "outputId": "4b71909c-386f-4565-c1b9-bfb526849e3c",
        "colab": {
          "base_uri": "https://localhost:8080/",
          "height": 217
        }
      },
      "outputs": [
        {
          "output_type": "execute_result",
          "data": {
            "image/png": "[encoded data removed]",
            "text/plain": [
              "<IPython.core.display.Image object>"
            ]
          },
          "metadata": {},
          "execution_count": 30
        }
      ],
      "source": [
        "diyne_smiles = 'C#CCC(O)C#C'\n",
        "azide_smiles = 'CCCN=[N+]=[N-]'\n",
        "\n",
        "diyne = Chem.MolFromSmiles(diyne_smiles)\n",
        "azide = Chem.MolFromSmiles(azide_smiles)\n",
        "\n",
        "Draw.MolsToGridImage([diyne, azide])"
      ]
    },
    {
      "cell_type": "code",
      "execution_count": 31,
      "metadata": {
        "id": "U_Q6ZnZ9zzrd"
      },
      "outputs": [],
      "source": [
        "# define reaction\n",
        "copper_click_smarts = '''\n",
        "[CH:1]#[C:2].[N:3]=[N+:4]=[N-:5]>>\n",
        "[c:1]1[c:2][n-0:3][n-0:4][n-0:5]1.\n",
        "[c:2]1[c:1][n-0:3][n-0:4][n-0:5]1\n",
        "'''\n",
        "\n",
        "copper_click = AllChem.ReactionFromSmarts(copper_click_smarts)"
      ]
    },
    {
      "cell_type": "markdown",
      "metadata": {
        "id": "ItHBBaHpzzrd"
      },
      "source": [
        "$\\require{mhchem}$\n",
        "Most varieties of the copper click work on terminal alkynes.  That presents a problem if we want to represent the variable regioselectivity (sometimes 1,4-disubstituted triazoles result, and sometimes 1,5-disubstituted triazoles result), because in the reactions SMARTS each carbon must be labeled with a specified & unique number.  So defining a reactant as something like `'([CH:1]#[C:2],[CH:2]#[C:1])'`, meaning that atom numbering is either $\\ce{H-^1C^#^2C-R}$ **or** $\\ce{H-^2C^#^1C-R}$) is NOT allowed.\n",
        "\n",
        "Here, we solve the problem by letting the reaction form two products, the first of which is the 1,4 product and the second of which is the 1,5 product."
      ]
    },
    {
      "cell_type": "code",
      "execution_count": null,
      "metadata": {
        "id": "_FikDVW2zzrd",
        "outputId": "bb639988-89e8-4f5f-b4cd-489896accf23"
      },
      "outputs": [
        {
          "data": {
            "text/plain": [
              "[rdkit.Chem.rdmolops.SanitizeFlags.SANITIZE_NONE,\n",
              " rdkit.Chem.rdmolops.SanitizeFlags.SANITIZE_NONE,\n",
              " rdkit.Chem.rdmolops.SanitizeFlags.SANITIZE_NONE,\n",
              " rdkit.Chem.rdmolops.SanitizeFlags.SANITIZE_NONE]"
            ]
          },
          "execution_count": 26,
          "metadata": {},
          "output_type": "execute_result"
        }
      ],
      "source": [
        "products_tuples = copper_click.RunReactants((diyne, azide))\n",
        "products = list(chain.from_iterable(products_tuples))\n",
        "[Chem.SanitizeMol(prod) for prod in products]"
      ]
    },
    {
      "cell_type": "code",
      "execution_count": null,
      "metadata": {
        "id": "PYbJ4I72zzrd",
        "outputId": "949a7f74-3346-4cab-cbfa-ced1b22adefc"
      },
      "outputs": [
        {
          "data": {
            "image/png": "[encoded data removed]",
            "text/plain": [
              "<IPython.core.display.Image object>"
            ]
          },
          "execution_count": 27,
          "metadata": {},
          "output_type": "execute_result"
        }
      ],
      "source": [
        "Draw.MolsToGridImage(products, molsPerRow = 4)"
      ]
    },
    {
      "cell_type": "markdown",
      "metadata": {
        "id": "wcNbKw8Czzrd"
      },
      "source": [
        "The reaction rule, as we saw above with glycerol, is only executed once per species.  So \"reactive\" groups remain in the output molecules.  Some simple Python scripting could then react these molecules again, generating the (bis)-triazoles.\n",
        "\n",
        "For more complex editing and manipulation of molecules, it might be worthwhile to investigate [RWMol objects](http://www.rdkit.org/Python_Docs/rdkit.Chem.rdchem.RWMol-class.html) instead of or in addition to the SMARTS reactions examples illustrated here."
      ]
    },
    {
      "cell_type": "markdown",
      "metadata": {
        "id": "Q5kxH-wPzzrd"
      },
      "source": [
        "tutorial author: Curt Fischer, Jan 2017"
      ]
    }
  ],
  "metadata": {
    "anaconda-cloud": {},
    "celltoolbar": "Tags",
    "hide_input": false,
    "kernelspec": {
      "display_name": "Python 3",
      "language": "python",
      "name": "python3"
    },
    "language_info": {
      "codemirror_mode": {
        "name": "ipython",
        "version": 3
      },
      "file_extension": ".py",
      "mimetype": "text/x-python",
      "name": "python",
      "nbconvert_exporter": "python",
      "pygments_lexer": "ipython3",
      "version": "3.9.1"
    },
    "toc": {
      "base_numbering": 1,
      "nav_menu": {},
      "number_sections": true,
      "sideBar": true,
      "skip_h1_title": false,
      "title_cell": "Table of Contents",
      "title_sidebar": "Contents",
      "toc_cell": false,
      "toc_position": {},
      "toc_section_display": true,
      "toc_window_display": false
    },
    "colab": {
      "provenance": []
    }
  },
  "nbformat": 4,
  "nbformat_minor": 0
}